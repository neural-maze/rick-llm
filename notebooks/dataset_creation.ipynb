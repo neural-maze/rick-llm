{
  "nbformat": 4,
  "nbformat_minor": 0,
  "metadata": {
    "colab": {
      "provenance": []
    },
    "kernelspec": {
      "name": "python3",
      "display_name": "Python 3"
    },
    "language_info": {
      "name": "python"
    }
  },
  "cells": [
    {
      "cell_type": "markdown",
      "source": [
        "This notebook contains all the intermediate steps necessary to create the final dataset, containing the data ready to be used in Unsloth. This new dataset will be pushed to The Neural Maze organization."
      ],
      "metadata": {
        "id": "VhAJBkZKiyyH"
      }
    },
    {
      "cell_type": "code",
      "source": [
        "!pip install datasets"
      ],
      "metadata": {
        "id": "AEitO1fXjBiy"
      },
      "execution_count": null,
      "outputs": []
    },
    {
      "cell_type": "code",
      "source": [
        "from huggingface_hub import notebook_login\n",
        "\n",
        "notebook_login()"
      ],
      "metadata": {
        "id": "6Iyxg8t8ABRz"
      },
      "execution_count": null,
      "outputs": []
    },
    {
      "cell_type": "markdown",
      "source": [
        "# Source dataset"
      ],
      "metadata": {
        "id": "ltlZWg3vhNFF"
      }
    },
    {
      "cell_type": "markdown",
      "source": [
        "The dataset we are going to build is based on `Prarabdha/Rick_and_Morty_Transcript`. The main transformation applied will be detailed in a few cells below."
      ],
      "metadata": {
        "id": "fooujMEahQ1y"
      }
    },
    {
      "cell_type": "code",
      "source": [
        "from tqdm import tqdm\n",
        "from datasets import load_dataset\n",
        "from datasets import Dataset\n",
        "\n",
        "dataset = load_dataset(\"Prarabdha/Rick_and_Morty_Transcript\", split=\"train\")"
      ],
      "metadata": {
        "id": "36CypqJwjo5b"
      },
      "execution_count": null,
      "outputs": []
    },
    {
      "cell_type": "code",
      "source": [
        "print(\"Number of rows: \", len(dataset))"
      ],
      "metadata": {
        "id": "PDWW6_ooj92g"
      },
      "execution_count": null,
      "outputs": []
    },
    {
      "cell_type": "code",
      "source": [
        "dataset[10]"
      ],
      "metadata": {
        "id": "utah44qfiSpL"
      },
      "execution_count": null,
      "outputs": []
    },
    {
      "cell_type": "code",
      "source": [
        "print(dataset[10][\"dialouge\"].strip())"
      ],
      "metadata": {
        "id": "N0M8AoK0h8v0"
      },
      "execution_count": null,
      "outputs": []
    },
    {
      "cell_type": "markdown",
      "source": [
        "# Dataset Preprocessing\n",
        "\n"
      ],
      "metadata": {
        "id": "WriJnit5gQRq"
      }
    },
    {
      "cell_type": "markdown",
      "source": [
        "The idea now is to generate conversations between random characters (we don't really care which one, as they will be treated as  the `user` role) and Rick Sanchez, that will assume the `assistant` role."
      ],
      "metadata": {
        "id": "Q8HcNDWbkPv-"
      }
    },
    {
      "cell_type": "code",
      "source": [
        "SYSTEM_PROMPT = \"\"\"You are an interdimensional genius scientist named Rick Sanchez.\n",
        "Be brutally honest, use sharp wit, and sprinkle in some scientific jargon.\n",
        "Don't shy away from dark humor or existential truths, but always provide a solution (even if it's unconventional).\"\"\"\n",
        "\n",
        "new_rows = []\n",
        "for i in tqdm(range(len(dataset) - 1)):\n",
        "    current_row = dataset[i]\n",
        "    next_row = dataset[i + 1]\n",
        "\n",
        "    if current_row[\"speaker\"] != 'Rick' and next_row[\"speaker\"] == 'Rick':\n",
        "        if current_row[\"episode no.\"] == next_row[\"episode no.\"]:\n",
        "            new_rows.append({\n",
        "                \"conversations_raw\": [\n",
        "                    {\"from\": \"system\", \"value\": SYSTEM_PROMPT.strip()},\n",
        "                    {\"from\": \"human\", \"value\": current_row[\"dialouge\"].strip()},\n",
        "                    {\"from\": \"gpt\", \"value\": next_row[\"dialouge\"].strip()}\n",
        "                ]\n",
        "            })\n",
        "\n",
        "sharegpt_dataset = Dataset.from_list(new_rows)"
      ],
      "metadata": {
        "id": "o7xLOtVllBjU"
      },
      "execution_count": null,
      "outputs": []
    },
    {
      "cell_type": "code",
      "source": [
        "sharegpt_dataset[0]"
      ],
      "metadata": {
        "id": "5Y0wS758KnLo",
        "collapsed": true
      },
      "execution_count": null,
      "outputs": []
    },
    {
      "cell_type": "markdown",
      "source": [
        "We are going to fix the dialogues in the datasets, since there are some things not ideal for the finetuning (e.g. `:` at the beginning of some sentences, references to actions / contexts, etc.). We are going to use GPT-4o to fix all of these problems."
      ],
      "metadata": {
        "id": "JPYiVs1DgUmr"
      }
    },
    {
      "cell_type": "code",
      "source": [
        "from openai import OpenAI\n",
        "from google.colab import userdata\n",
        "\n",
        "client = OpenAI(api_key=userdata.get('OPENAI_API_KEY'))\n",
        "\n",
        "\n",
        "SYSTEM_PROMPT = \"\"\"\n",
        "Your task is to fix some dialogue transcripts you are going to receive.\n",
        "The idea is to remove references to actions / context, removing any\n",
        "incorrect symbols. Here are some examples:\n",
        "\n",
        "Input: stumbles in drunkenly, and turns on the lights. Morty! You gotta come on. Jus'... you gotta come with me.\n",
        "Output: Morty! You gotta come on. Jus'... you gotta come with me.\n",
        "\n",
        "Input: rubs his eyes. What, Rick? What’s going on?\n",
        "Output: What, Rick? What’s going on?\n",
        "\"\"\""
      ],
      "metadata": {
        "id": "0XVpCAMKg7IF"
      },
      "execution_count": null,
      "outputs": []
    },
    {
      "cell_type": "code",
      "source": [
        "sharegpt_dataset[0][\"conversations_raw\"][1][\"value\"]"
      ],
      "metadata": {
        "id": "0hP4k10Qla_E"
      },
      "execution_count": null,
      "outputs": []
    },
    {
      "cell_type": "code",
      "source": [
        "new_rows = []\n",
        "\n",
        "for row in tqdm(sharegpt_dataset):\n",
        "\n",
        "    rick_completion = client.chat.completions.create(\n",
        "      model=\"gpt-4o-mini\",\n",
        "      messages=[\n",
        "        {\"role\": \"system\", \"content\": SYSTEM_PROMPT},\n",
        "        {\"role\": \"user\", \"content\": row[\"conversations_raw\"][1][\"value\"].strip()}\n",
        "      ]\n",
        "    ).choices[0].message.content\n",
        "\n",
        "    non_rick_completion = client.chat.completions.create(\n",
        "      model=\"gpt-4o-mini\",\n",
        "      messages=[\n",
        "        {\"role\": \"system\", \"content\": SYSTEM_PROMPT},\n",
        "        {\"role\": \"user\", \"content\": row[\"conversations_raw\"][2][\"value\"].strip()}\n",
        "      ]\n",
        "    ).choices[0].message.content\n",
        "\n",
        "    new_rows.append({\n",
        "        \"conversations\": [\n",
        "            {\"from\": \"system\", \"value\": row[\"conversations_raw\"][0][\"value\"]},\n",
        "            {\"from\": \"human\", \"value\": rick_completion},\n",
        "            {\"from\": \"gpt\", \"value\": non_rick_completion}\n",
        "        ]\n",
        "    })"
      ],
      "metadata": {
        "id": "Mj08ix4wi8qh"
      },
      "execution_count": null,
      "outputs": []
    },
    {
      "cell_type": "code",
      "source": [
        "sharegpt_dataset_cleaned = Dataset.from_list(new_rows)"
      ],
      "metadata": {
        "id": "hK9mZzWhlZei"
      },
      "execution_count": null,
      "outputs": []
    },
    {
      "cell_type": "code",
      "source": [
        "sharegpt_dataset_cleaned[0]"
      ],
      "metadata": {
        "id": "gvvMB-ebm6jf"
      },
      "execution_count": null,
      "outputs": []
    },
    {
      "cell_type": "markdown",
      "source": [
        "And that's it! We have a Dataset ready to be fed up to Unsloth following the ShareGPT style. Now, let's push the dataset to HuggingFace."
      ],
      "metadata": {
        "id": "HLd9lgGOid5I"
      }
    },
    {
      "cell_type": "code",
      "source": [
        "sharegpt_dataset_cleaned.push_to_hub(\"theneuralmaze/rick-and-morty-transcripts-sharegpt\")"
      ],
      "metadata": {
        "id": "VRNIht34io_1"
      },
      "execution_count": null,
      "outputs": []
    }
  ]
}